{
 "cells": [
  {
   "cell_type": "code",
   "execution_count": null,
   "id": "52b3cfa4",
   "metadata": {},
   "outputs": [],
   "source": [
    "import requests\n",
    "import json\n",
    "\n",
    "# NOTE: you must manually set API_KEY below using information retrieved from your IBM Cloud account.\n",
    "API_KEY = \"957bea03-0d9b-468f-9721-60913a89d419\"\n",
    "token_response = requests.post('https://iam.cloud.ibm.com/identity/token', data={\"apikey\":\n",
    " API_KEY, \"grant_type\": 'urn:ibm:params:oauth:grant-type:apikey'})\n",
    "mltoken = token_response.json()[\"access_token\"]\n",
    "\n",
    "header = {'Content-Type': 'application/json', 'Authorization': 'Bearer ' + mltoken}\n",
    "\n",
    "# NOTE: manually define and pass the array(s) of values to be scored in the next line\n",
    "payload_scoring = {\"input_data\": [{\"fields\": [array_of_input_fields], \"values\": [array_of_values_to_be_scored, another_array_of_values_to_be_scored]}]}\n",
    "\n",
    "response_scoring = requests.post('https://us-south.ml.cloud.ibm.com/ml/v4/deployments/181a6c35-2b1b-40d7-8d29-b1fe1eeeeceb/predictions?version=2022-11-15', json=payload_scoring,\n",
    " headers={'Authorization': 'Bearer ' + mltoken})\n",
    "print(\"Scoring response\")\n",
    "print(response_scoring.json())\n",
    "#print(predictions)\n",
    "pred=print(predictions['predictions'][0]['values'][0][0])\n",
    "if(pred != 1):\n",
    "    print(\"The Website is secure.. Continue\")\n",
    "else:\n",
    "    print(\"The Website is not Legitimate... BEWARE!!\")"
   ]
  },
  {
   "cell_type": "code",
   "execution_count": null,
   "id": "77a8017d",
   "metadata": {},
   "outputs": [],
   "source": []
  }
 ],
 "metadata": {
  "kernelspec": {
   "display_name": "Python 3 (ipykernel)",
   "language": "python",
   "name": "python3"
  },
  "language_info": {
   "codemirror_mode": {
    "name": "ipython",
    "version": 3
   },
   "file_extension": ".py",
   "mimetype": "text/x-python",
   "name": "python",
   "nbconvert_exporter": "python",
   "pygments_lexer": "ipython3",
   "version": "3.9.13"
  }
 },
 "nbformat": 4,
 "nbformat_minor": 5
}
